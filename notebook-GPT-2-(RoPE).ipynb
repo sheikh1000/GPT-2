{
 "cells": [
  {
   "cell_type": "markdown",
   "id": "f4625493",
   "metadata": {
    "id": "f4625493"
   },
   "source": [
    "> ## 1. Building a Character Tokenizer"
   ]
  },
  {
   "cell_type": "markdown",
   "id": "82a8adc5",
   "metadata": {
    "id": "82a8adc5"
   },
   "source": [
    "> ### 1.1. Taking a look at the data"
   ]
  },
  {
   "cell_type": "code",
   "execution_count": 1,
   "id": "49212d01",
   "metadata": {
    "colab": {
     "base_uri": "https://localhost:8080/"
    },
    "id": "49212d01",
    "outputId": "5f48efec-10f6-4df5-e53d-fa3e8212a990"
   },
   "outputs": [
    {
     "name": "stdout",
     "output_type": "stream",
     "text": [
      "We have 65 unique characters in our vocabulary\n"
     ]
    }
   ],
   "source": [
    "with open(\"input.txt\", 'r', encoding='utf-8') as file:\n",
    "    text = file.read()\n",
    "chars = sorted(list(set(text)))\n",
    "vocab_size = len(chars)\n",
    "print(f\"We have {vocab_size} unique characters in our vocabulary\")"
   ]
  },
  {
   "cell_type": "markdown",
   "id": "619434fb",
   "metadata": {
    "id": "619434fb"
   },
   "source": [
    "> ### 1.2.  Encoder and Decoder (basic)"
   ]
  },
  {
   "cell_type": "code",
   "execution_count": 3,
   "id": "01eb31fb",
   "metadata": {
    "id": "01eb31fb"
   },
   "outputs": [],
   "source": [
    "encoder = {ch:idx for idx, ch in enumerate(chars)}\n",
    "decoder = {idx:ch for idx, ch in enumerate(chars)}\n",
    "\n",
    "encode = lambda s: [encoder[c] for c in s]\n",
    "decode = lambda l: ''.join([decoder[i] for i in l])"
   ]
  },
  {
   "cell_type": "code",
   "execution_count": 4,
   "id": "b2499fa8",
   "metadata": {
    "colab": {
     "base_uri": "https://localhost:8080/"
    },
    "id": "b2499fa8",
    "outputId": "bfddc559-e281-4e32-91b8-249144e8f411"
   },
   "outputs": [
    {
     "name": "stdout",
     "output_type": "stream",
     "text": [
      "Shape of data: torch.Size([1115394])\n",
      "Datatype of tensor: torch.int64\n"
     ]
    }
   ],
   "source": [
    "import torch\n",
    "import torch.nn as nn\n",
    "import torch.nn.functional as F\n",
    "\n",
    "data = torch.tensor(encode(text), dtype=torch.long)\n",
    "\n",
    "print(f\"Shape of data: {data.shape}\")\n",
    "print(f\"Datatype of tensor: {data.dtype}\")\n",
    "\n",
    "n = int(0.9 * len(data))\n",
    "train_data = data[:n]\n",
    "val_data = data[n:]"
   ]
  },
  {
   "cell_type": "markdown",
   "id": "24227e27",
   "metadata": {
    "id": "24227e27"
   },
   "source": [
    "> ### 1.3. Setting the ground"
   ]
  },
  {
   "cell_type": "markdown",
   "id": "15b7d292",
   "metadata": {
    "id": "15b7d292"
   },
   "source": [
    "> #### 1.3.1. Hyperparameters"
   ]
  },
  {
   "cell_type": "code",
   "execution_count": 6,
   "id": "a77d70eb",
   "metadata": {
    "id": "a77d70eb"
   },
   "outputs": [],
   "source": [
    "batch_size = 16\n",
    "block_size = 32\n",
    "\n",
    "max_iter = 2400\n",
    "eval_iters = 200\n",
    "eval_interval = 100\n",
    "\n",
    "learning_rate = 1e-3\n",
    "\n",
    "device = 'cuda' if torch.cuda.is_available() else 'cpu'\n",
    "\n",
    "n_embd = 64\n",
    "n_head = 4\n",
    "n_layer = 4\n",
    "dropout = 0.0"
   ]
  },
  {
   "cell_type": "markdown",
   "id": "e715378f",
   "metadata": {
    "id": "e715378f"
   },
   "source": [
    "> #### 1.3.2. Generating batches\n",
    "\n",
    "+ The `get_batch()` function\n",
    "    + gets hold of the data\n",
    "    + generates  `batch_size` number of offsets\n",
    "    + generates a block from each offset\n",
    "    + generates a shifted block from each offset\n",
    "    + stacks these block into rows (each row is independent)"
   ]
  },
  {
   "cell_type": "code",
   "execution_count": 7,
   "id": "4b8e02ea",
   "metadata": {
    "id": "4b8e02ea"
   },
   "outputs": [],
   "source": [
    "def get_batch(split):\n",
    "    data = train_data if split == 'train' else val_data\n",
    "\n",
    "    random_offsets = torch.randint(low=0, high=len(data) - block_size,\n",
    "                                   size=(batch_size, ))\n",
    "\n",
    "    x = torch.stack([data[idx:idx+block_size] for idx in random_offsets]).to(device)\n",
    "    y = torch.stack([data[idx+1:idx+block_size+1] for idx in random_offsets]).to(device)\n",
    "    return x, y"
   ]
  },
  {
   "cell_type": "markdown",
   "id": "e97d597c",
   "metadata": {
    "id": "e97d597c"
   },
   "source": [
    "> ## 2. Implementing Self-Attention"
   ]
  },
  {
   "cell_type": "markdown",
   "id": "215c9fb3",
   "metadata": {
    "id": "215c9fb3"
   },
   "source": [
    "> ### 2.1. Single Head Attention"
   ]
  },
  {
   "cell_type": "markdown",
   "id": "d5f9e57e",
   "metadata": {
    "id": "d5f9e57e"
   },
   "source": [
    "+ Shape of `query`: (`batch_size`, `block_size`, `head_size`)\n",
    "+ Shape of `key`: (`batch_size`, `block_size`, `head_size`)\n",
    "+ Shape of `key.transpose(-2, -1)`: (`batch_size`, `head_size`, `block_size`)\n",
    "<br><br>\n",
    "+ Multiplication of `q` and `k.transpose(-2, -1)` (ignoring the batch dimension):\n",
    "    + (`block_size`, `head_size`) . (`head_size`, `block_size`)\n",
    "    + The multiplication will give the output of shape: (`block_size`, `block_size`) or (`T`, `T`)\n",
    "<br><br>    \n",
    "+ Multiplication of $\\text{q} \\ . \\ \\text{k}^\\top$ and `v` (ignoring the batch dimension):\n",
    "    + (`block_size`, `block_size`) . (`block_size`, `head_size`)\n",
    "    + The multiplication will give the output of shape: (`block_size`, `head_size`)\n",
    "<br><br>\n",
    "\n",
    "+ **NOTE:**\n",
    "    + `T` is used interchangeably with `block_size`\n",
    "    + `C` is used interchangeably with `n_embed`\n",
    "    + `head_size` denotes `n_embed` ÷ `n_head`"
   ]
  },
  {
   "cell_type": "code",
   "execution_count": 8,
   "id": "83709e42",
   "metadata": {
    "id": "83709e42"
   },
   "outputs": [],
   "source": [
    "class Head(nn.Module):\n",
    "    def __init__(self, head_size):\n",
    "        super().__init__()\n",
    "        self.key = nn.Linear(n_embd, head_size, bias=False)\n",
    "        self.query = nn.Linear(n_embd, head_size, bias=False)\n",
    "        self.value = nn.Linear(n_embd, head_size, bias=False)\n",
    "        self.register_buffer('tril', torch.tril(torch.ones(block_size, block_size)))\n",
    "        self.dropout = nn.Dropout(dropout)\n",
    "\n",
    "    def forward(self, x):\n",
    "        B, T, C = x.shape\n",
    "\n",
    "        k = self.key(x)\n",
    "        q = self.query(x)\n",
    "        v = self.value(x)\n",
    "\n",
    "        wei = q @ k.transpose(-2, -1) * C ** -0.5\n",
    "        wei = wei.masked_fill(self.tril[:T, :T] == 0, float('-inf'))\n",
    "        wei = F.softmax(wei, dim=-1)\n",
    "        wei = self.dropout(wei)\n",
    "        out = wei @ v\n",
    "        return out"
   ]
  },
  {
   "cell_type": "markdown",
   "id": "6ca8091d",
   "metadata": {
    "id": "6ca8091d"
   },
   "source": [
    "> ### 2.2. Multi Head Attention"
   ]
  },
  {
   "cell_type": "code",
   "execution_count": 9,
   "id": "402b61b8",
   "metadata": {
    "id": "402b61b8"
   },
   "outputs": [],
   "source": [
    "class MultiHeadAttention(nn.Module):\n",
    "    def __init__(self, num_heads, head_size):\n",
    "        super().__init__()\n",
    "        self.heads = nn.ModuleList([Head(head_size) for _ in range(num_heads)])\n",
    "        self.proj = nn.Linear(n_embd, n_embd)\n",
    "        self.dropout = nn.Dropout(dropout)\n",
    "\n",
    "    def forward(self, x):\n",
    "        out = torch.cat([h(x) for h in self.heads], dim=-1)\n",
    "        out = self.proj(out)\n",
    "        out = self.dropout(out)\n",
    "        return out"
   ]
  },
  {
   "cell_type": "code",
   "execution_count": 10,
   "id": "74c53ace",
   "metadata": {
    "id": "74c53ace"
   },
   "outputs": [],
   "source": [
    "class FeedForward(nn.Module):\n",
    "    def __init__(self, n_embd):\n",
    "        super().__init__()\n",
    "        self.net = nn.Sequential(\n",
    "            nn.Linear(n_embd, n_embd),\n",
    "            nn.ReLU(),\n",
    "            nn.Linear(n_embd, n_embd),\n",
    "            nn.Dropout(dropout)\n",
    "        )\n",
    "\n",
    "    def forward(self, x):\n",
    "        out = self.net(x)\n",
    "        return out"
   ]
  },
  {
   "cell_type": "markdown",
   "id": "8637a663",
   "metadata": {
    "id": "8637a663"
   },
   "source": [
    "> ### 2.4. Transformer Block Implementation"
   ]
  },
  {
   "cell_type": "code",
   "execution_count": 11,
   "id": "53894747",
   "metadata": {
    "id": "53894747"
   },
   "outputs": [],
   "source": [
    "class Block(nn.Module):\n",
    "    def __init__(self, n_embd, n_heads):\n",
    "        super().__init__()\n",
    "\n",
    "        self.sa = MultiHeadAttention(num_heads=n_head, head_size=(n_embd // n_heads))\n",
    "        self.ffwd = FeedForward(n_embd=n_embd)\n",
    "        self.ln1 = nn.LayerNorm(n_embd)\n",
    "        self.ln2 = nn.LayerNorm(n_embd)\n",
    "\n",
    "    def forward(self, x):\n",
    "        x = self.ln1(x)\n",
    "        x = x + self.sa(x)\n",
    "        x = self.ln2(x)\n",
    "        x = x + self.ffwd(x)\n",
    "        return x"
   ]
  },
  {
   "cell_type": "markdown",
   "id": "b40391d6",
   "metadata": {
    "id": "b40391d6"
   },
   "source": [
    "> ## 3. Language Model Implementation\n",
    "\n",
    "+ Key Components\n",
    "    + Token Embedding Table (`token_embedding_table`)\n",
    "    <br><br>\n",
    "    + Position Embedding Table (`position_embedding_table`)\n",
    "    <br><br>\n",
    "    + Transformer Blocks (`blocks`)\n",
    "        + A sequence of transformer blocks defined by the Block class. Each block applies multi-head self-attention and feed-forward networks, allowing the model to learn complex relationships between tokens.\n",
    "        <br><br>\n",
    "    + Layer Normalization (`ln_f`)\n",
    "    <br><br>\n",
    "    + Output Linear Layer (lm_head)\n",
    "    <br><br>"
   ]
  },
  {
   "cell_type": "code",
   "execution_count": 12,
   "id": "e19a2de7",
   "metadata": {
    "id": "e19a2de7"
   },
   "outputs": [],
   "source": [
    "class LanguageModel(nn.Module):\n",
    "    def __init__(self):\n",
    "        super().__init__()\n",
    "\n",
    "        self.token_emebdding_table = nn.Embedding(vocab_size, n_embd)\n",
    "        self.position_embedding_table = nn.Embedding(block_size, n_embd)\n",
    "        self.blocks = nn.Sequential(*[Block(n_embd=n_embd, n_heads=n_head) for _ in range(n_layer)])\n",
    "        self.ln_f = nn.LayerNorm(n_embd)\n",
    "        self.lm_head = nn.Linear(n_embd, vocab_size)\n",
    "\n",
    "    def forward(self, idx, targets=None):\n",
    "        B, T = idx.shape\n",
    "        tok_embd = self.token_emebdding_table(idx)\n",
    "        pos_embd = self.position_embedding_table(torch.arange(T, device=device))\n",
    "        x = tok_embd + pos_embd\n",
    "        x = self.blocks(x)\n",
    "        x = self.ln_f(x)\n",
    "        logits = self.lm_head(x)\n",
    "\n",
    "        if targets == None:\n",
    "            loss = None\n",
    "        else:\n",
    "            B, T, C = logits.shape\n",
    "            logits = logits.view(B*T, C)\n",
    "            targets = targets.view(B*T)\n",
    "            loss = F.cross_entropy(logits, targets)\n",
    "\n",
    "        return logits, loss\n",
    "\n",
    "    def generate(self, idx, max_new_tokens):\n",
    "        for _ in range(max_new_tokens):\n",
    "            idx_cond = idx[:, -block_size:]\n",
    "            logits, loss = self(idx_cond)\n",
    "            logits = logits[:, -1, :]\n",
    "            probs = F.softmax(logits, dim=-1)\n",
    "            idx_next = torch.multinomial(probs, num_samples=1)\n",
    "            idx =  torch.cat((idx, idx_next), dim=1)\n",
    "\n",
    "        return idx"
   ]
  },
  {
   "cell_type": "markdown",
   "id": "de2475af",
   "metadata": {
    "id": "de2475af"
   },
   "source": [
    "> ## 5. Training and Evaluating Loops\n",
    "+ The `estimate_loss` function estimates the average loss on the training and validation splits without computing gradients (using `torch.no_grad( )` to save memory and computation) and returns a dictionary containing the mean losses for both splits.\n",
    "<br><br>\n",
    "<br><br>\n",
    "\n",
    "> #### Training Loop\n",
    "+ The training loop loops through a defined number of iterations (`max_iter`).\n",
    "<br><br>\n",
    "+ At every `eval_interval` iterations or at the last iteration, it estimates the loss using `estimate_loss( )` and prints the average training and validation losses.\n",
    "+ It works by:\n",
    "    + Sampling a batch of training data using `get_batch('train')`.\n",
    "    + Computing the logits and loss from the model.\n",
    "    + Resetting the gradients with `optimizer.zero_grad(set_to_none=True)`.\n",
    "    + Performing backpropagation with `loss.backward( )`.\n",
    "    + Updating the model parameters `with optimizer.step( )`.\n",
    "<br><br>\n",
    "<br><br>\n",
    "\n",
    "> #### Generating New Tokens\n",
    "+ It works by:\n",
    "    + Initializing a context tensor of zeros, which acts as the starting input for the model.\n",
    "    + Calling the `generate( )` method of the model to produce `max_new_tokens`.\n",
    "    + Decoding the generated token indices into human-readable text using `decode( )`."
   ]
  },
  {
   "cell_type": "code",
   "execution_count": 13,
   "id": "7f9c3a53",
   "metadata": {
    "colab": {
     "base_uri": "https://localhost:8080/"
    },
    "id": "7f9c3a53",
    "outputId": "9119835a-b9c2-4574-9e2a-3b41e00c6766"
   },
   "outputs": [
    {
     "name": "stdout",
     "output_type": "stream",
     "text": [
      "The model has 0.110657 M parameters\n"
     ]
    }
   ],
   "source": [
    "model = LanguageModel()\n",
    "m = model.to(device=device)\n",
    "num_of_model_parameters = sum(p.numel() for p in m.parameters())/1e6\n",
    "print(f\"The model has {num_of_model_parameters}\" , 'M parameters')\n",
    "\n",
    "@torch.no_grad()\n",
    "def estimate_loss():\n",
    "    out = {}\n",
    "    model.eval()\n",
    "    for split in ['train', 'val']:\n",
    "        losses = torch.zeros(eval_iters)\n",
    "        for k in range(eval_iters):\n",
    "            X, Y = get_batch(split)\n",
    "            logits, loss = model(X, Y)\n",
    "            losses[k] = loss.item()\n",
    "        out[split] = losses.mean()\n",
    "    model.train()\n",
    "    return out\n",
    "\n",
    "optimizer = torch.optim.AdamW(model.parameters(), lr=learning_rate)\n",
    "\n",
    "tr_losses = []\n",
    "val_losses = []\n",
    "def train():\n",
    "    for iter in range(max_iter):\n",
    "        if iter % eval_interval == 0 or iter == max_iter - 1:\n",
    "            losses = estimate_loss()\n",
    "            tr_losses.append(losses['train'])\n",
    "            val_losses.append(losses['val'])\n",
    "            print(f\"step {iter}: train loss {losses['train']:.4f}, val loss {losses['val']:.4f}\")\n",
    "\n",
    "        xb, yb = get_batch('train')\n",
    "\n",
    "        logits, loss = model(xb, yb)\n",
    "        optimizer.zero_grad(set_to_none=True)\n",
    "        loss.backward()\n",
    "        optimizer.step()"
   ]
  },
  {
   "cell_type": "code",
   "execution_count": 17,
   "id": "90f1e3f8",
   "metadata": {
    "id": "90f1e3f8",
    "outputId": "8a349393-2662-411f-b48c-d71d4c995ddc"
   },
   "outputs": [
    {
     "name": "stdout",
     "output_type": "stream",
     "text": [
      "step 0: train loss 4.3384, val loss 4.3531\n",
      "step 100: train loss 2.7434, val loss 2.7627\n",
      "step 200: train loss 2.5490, val loss 2.5485\n",
      "step 300: train loss 2.4483, val loss 2.4555\n",
      "step 400: train loss 2.3876, val loss 2.4030\n",
      "step 500: train loss 2.3350, val loss 2.3361\n",
      "step 600: train loss 2.2851, val loss 2.3016\n",
      "step 700: train loss 2.2447, val loss 2.2735\n",
      "step 800: train loss 2.2042, val loss 2.2202\n",
      "step 900: train loss 2.1766, val loss 2.1989\n",
      "step 1000: train loss 2.1608, val loss 2.1694\n",
      "step 1100: train loss 2.1211, val loss 2.1529\n",
      "step 1200: train loss 2.0937, val loss 2.1285\n",
      "step 1300: train loss 2.0763, val loss 2.1154\n",
      "step 1400: train loss 2.0706, val loss 2.1101\n",
      "step 1500: train loss 2.0408, val loss 2.0907\n",
      "step 1600: train loss 2.0187, val loss 2.0812\n",
      "step 1700: train loss 2.0041, val loss 2.0722\n",
      "step 1800: train loss 2.0016, val loss 2.0771\n",
      "step 1900: train loss 1.9843, val loss 2.0515\n",
      "step 2000: train loss 1.9730, val loss 2.0488\n",
      "step 2100: train loss 1.9603, val loss 2.0368\n",
      "step 2200: train loss 1.9468, val loss 2.0261\n",
      "step 2300: train loss 1.9243, val loss 2.0155\n",
      "step 2399: train loss 1.9306, val loss 2.0229\n"
     ]
    }
   ],
   "source": [
    "train()"
   ]
  },
  {
   "cell_type": "code",
   "execution_count": 18,
   "id": "a44439ea",
   "metadata": {},
   "outputs": [
    {
     "name": "stdout",
     "output_type": "stream",
     "text": [
      "\n",
      "MENTEOMES:\n",
      "Wile so the here wall our her on harel am?\n",
      "\n",
      "DUCION VIWAREt:\n",
      "\n",
      "GAUd:\n",
      "\n",
      "ThaMast, Myrate uphers ois dighcion! alct your with till\n",
      "theer brople ruphat teer a pie,\n",
      "What irstinghsing crith have tirne.\n",
      "\n",
      "PRULUTET:\n",
      "My, sealk my to now witth wher\n",
      "lid prepths the aatt. In ligge shaly; in my, wilk, at I up orctiven\n",
      "lighting, I'll with on that thould thred;\n",
      "see sookm say out his theree did deadiot a souks fraall rentie.\n",
      "\n",
      "DUCARD:\n",
      "Goive is a I you, cold yand with, ting upsle,\n",
      "Rirst of\n",
      "bie slard an she\n"
     ]
    }
   ],
   "source": [
    "context = torch.zeros((1,1), dtype=torch.long, device=device)\n",
    "print(decode(model.generate(context, max_new_tokens=500)[0].tolist()))"
   ]
  },
  {
   "cell_type": "markdown",
   "id": "d65ed236",
   "metadata": {
    "id": "d65ed236"
   },
   "source": [
    "> ### 5.1. Plotting loss curves"
   ]
  },
  {
   "cell_type": "code",
   "execution_count": 27,
   "id": "98174692",
   "metadata": {},
   "outputs": [],
   "source": [
    "import matplotlib.pyplot as plt\n",
    "def plot_losses():\n",
    "    plt.figure(figsize=(10, 6))\n",
    "    plt.plot(range(len(tr_losses)), tr_losses, label='Train Loss', color='blue')\n",
    "    plt.plot(range(len(val_losses)), val_losses, label='Validation Loss', color='red')\n",
    "    plt.title('Training and Validation Loss')\n",
    "    plt.xlabel('Iterations (x100)')\n",
    "    plt.ylabel('Loss')\n",
    "    plt.legend()\n",
    "    plt.show()"
   ]
  },
  {
   "cell_type": "code",
   "execution_count": 19,
   "id": "3d2503a4",
   "metadata": {
    "colab": {
     "base_uri": "https://localhost:8080/",
     "height": 564
    },
    "id": "3d2503a4",
    "outputId": "4415c0cc-85ea-4650-ecc4-8beecdbe96cc"
   },
   "outputs": [
    {
     "data": {
      "image/png": "[encoded data removed]",
      "text/plain": [
       "<Figure size 1000x600 with 1 Axes>"
      ]
     },
     "metadata": {},
     "output_type": "display_data"
    }
   ],
   "source": [
    "plot_losses()"
   ]
  },
  {
   "cell_type": "code",
   "execution_count": null,
   "id": "7591453d",
   "metadata": {
    "id": "7591453d",
    "outputId": "355e4c64-bce0-429e-a5ac-d00a18121c80"
   },
   "outputs": [
    {
     "name": "stdout",
     "output_type": "stream",
     "text": [
      "\n",
      "Your ways, so affam, this ofor Aughors, am to thee;\n",
      "Awary to: ay? busink'd feet!\n",
      "\n",
      "Ning ELrows! my too his a brove, Eersthings,-mained doo belless:\n",
      "Ghird grot pote arst your somele,\n",
      "Nour bayw hiapker'q'eees eyitain them and castluce inbjuloke agonsty that.\n",
      "\n",
      "Sourds your deassher toffuliks not forjed your\n",
      "For ains tries igon the is getsaed falst orey lovind\n",
      "\n",
      "That deages.\n",
      "\n",
      "\n",
      "QUEEEN EOFored EDborg And Carplien ding for slon your to hath\n",
      "s. May uters as and allows, the grield of and Gomodly Cay Cose is\n"
     ]
    }
   ],
   "source": [
    "context = torch.zeros((1, 1), dtype=torch.long, device=device)\n",
    "print(decode(m.generate(context, max_new_tokens=500)[0].tolist()))"
   ]
  },
  {
   "cell_type": "markdown",
   "id": "f5652fee",
   "metadata": {},
   "source": [
    "> ## 6. Llama Style Decoder"
   ]
  },
  {
   "cell_type": "markdown",
   "id": "8561ad93",
   "metadata": {
    "id": "8561ad93"
   },
   "source": [
    "> ### 6.1. Byte Pair Encoding (BPE) Implementation"
   ]
  },
  {
   "cell_type": "markdown",
   "id": "aff66097",
   "metadata": {},
   "source": [
    "> #### 6.1.1. Utility funtions"
   ]
  },
  {
   "cell_type": "code",
   "execution_count": 17,
   "id": "94b78b3f",
   "metadata": {
    "id": "94b78b3f"
   },
   "outputs": [],
   "source": [
    "class BPE:\n",
    "    def __init__(self, vocab_size):\n",
    "        self.vocab_size = vocab_size\n",
    "        self.num_merges = self.vocab_size - 256\n",
    "        self.merges_map = {}\n",
    "        self.byte_map = {}  \n",
    "\n",
    "    def fit(self, text):\n",
    "        utf_ids = text.encode('utf-8')\n",
    "        utf_ids = list(map(int, utf_ids))\n",
    "        \n",
    "        new_utf_ids = utf_ids.copy()\n",
    "        merges_map = {}\n",
    "        for i in range(self.num_merges):\n",
    "            pair_counts_dict = self.get_pair_counts_dict(new_utf_ids)\n",
    "            if not pair_counts_dict:\n",
    "                break\n",
    "            max_count_pair = max(pair_counts_dict, key=pair_counts_dict.get)\n",
    "            new_id = 256 + i\n",
    "            new_utf_ids = self.merge_and_replace_pairs(new_utf_ids, max_count_pair, new_id)\n",
    "            self.merges_map[max_count_pair] = new_id\n",
    "        \n",
    "        self.byte_map = {old_id: bytes([old_id]) for old_id in range(256)}\n",
    "\n",
    "        for (id_1, id_2), new_id in self.merges_map.items():\n",
    "            self.byte_map[new_id] = self.byte_map[id_1] + self.byte_map[id_2]\n",
    "    \n",
    "    @staticmethod\n",
    "    def get_pair_counts_dict(utf_ids):\n",
    "        counts = {}\n",
    "        for pair in zip(utf_ids, utf_ids[1:]):\n",
    "            counts[pair] = counts.get(pair, 0) + 1\n",
    "        return counts\n",
    "\n",
    "    @staticmethod\n",
    "    def merge_and_replace_pairs(utf_ids, pair, new_id=256):\n",
    "        new_utf_ids = []\n",
    "        i = 0\n",
    "        while i < len(utf_ids):\n",
    "            if i < len(utf_ids) - 1 and utf_ids[i] == pair[0] and utf_ids[i + 1] == pair[1]:\n",
    "                new_utf_ids.append(new_id)\n",
    "                i += 2\n",
    "            else:\n",
    "                new_utf_ids.append(utf_ids[i])\n",
    "                i += 1\n",
    "        return new_utf_ids\n",
    "\n",
    "    def encode(self, text):\n",
    "        utf_ids = list(text.encode('utf-8'))\n",
    "        while len(utf_ids) >= 2:\n",
    "            pair_counts_dict = self.get_pair_counts_dict(utf_ids)\n",
    "            pair = min(pair_counts_dict, key=lambda p: self.merges_map.get(p, float('inf')))\n",
    "            if pair not in self.merges_map:\n",
    "                break\n",
    "            utf_id = self.merges_map[pair]\n",
    "            utf_ids = self.merge_and_replace_pairs(utf_ids, pair, utf_id)\n",
    "        return utf_ids\n",
    "\n",
    "    def decode(self, encoded):\n",
    "        return b\"\".join(self.byte_map[i] for i in encoded).decode('utf-8', errors='replace')"
   ]
  },
  {
   "cell_type": "markdown",
   "id": "a14efe8e",
   "metadata": {
    "id": "a14efe8e"
   },
   "source": [
    "> ### 6.2. Modify the GPT Head to Use RoPE"
   ]
  },
  {
   "cell_type": "code",
   "execution_count": 22,
   "id": "bcd63a93",
   "metadata": {
    "id": "bcd63a93"
   },
   "outputs": [],
   "source": [
    "class Head(nn.Module):\n",
    "    def __init__(self, head_size):\n",
    "        super().__init__()\n",
    "        self.key = nn.Linear(n_embd, head_size, bias=False)\n",
    "        self.query = nn.Linear(n_embd, head_size, bias=False)\n",
    "        self.value = nn.Linear(n_embd, head_size, bias=False)\n",
    "        self.register_buffer('tril', torch.tril(torch.ones(block_size, block_size)))\n",
    "        self.dropout = nn.Dropout(dropout)\n",
    "\n",
    "        dim = head_size // 2\n",
    "        inv_freq = 1.0 / (10000 ** (torch.arange(0, dim, dtype=torch.float32) / dim))\n",
    "\n",
    "        pos = torch.arange(0, block_size, dtype=torch.float32).unsqueeze(1)\n",
    "        angles = pos * inv_freq\n",
    "\n",
    "        self.register_buffer('cos', torch.cos(angles))\n",
    "        self.register_buffer('sin', torch.sin(angles))\n",
    "\n",
    "    def apply_rope(self, q, k, seq_len):\n",
    "        cos = self.cos[:seq_len, :].unsqueeze(0)\n",
    "        sin = self.sin[:seq_len, :].unsqueeze(0)\n",
    "\n",
    "        q1, q2 = torch.chunk(q, 2, dim=-1)\n",
    "        k1, k2 = torch.chunk(k, 2, dim=-1)\n",
    "\n",
    "        q_rot = torch.cat([q1 * cos - q2 * sin, q1 * sin + q2 * cos], dim=-1)\n",
    "        k_rot = torch.cat([k1 * cos - k2 * sin, k1 * sin + k2 * cos], dim=-1)\n",
    "\n",
    "        return q_rot, k_rot\n",
    "\n",
    "    def forward(self, x):\n",
    "        B, T, C = x.shape\n",
    "\n",
    "        k = self.key(x)\n",
    "        q = self.query(x)\n",
    "        v = self.value(x)\n",
    "\n",
    "        wei = q @ k.transpose(-2, -1) * C ** -0.5\n",
    "        wei = wei.masked_fill(self.tril[:T, :T] == 0, float('-inf'))\n",
    "        wei = F.softmax(wei, dim=-1)\n",
    "        wei = self.dropout(wei)\n",
    "        out = wei @ v\n",
    "        return out\n",
    "\n",
    "class FeedForward(nn.Module):\n",
    "    def __init__(self, n_embd):\n",
    "        super().__init__()\n",
    "        self.w1 = nn.Linear(n_embd, n_embd)\n",
    "        self.w2 = nn.Linear(n_embd, n_embd)\n",
    "        self.w3 = nn.Linear(n_embd, n_embd)\n",
    "\n",
    "    def forward(self, x):\n",
    "        z = self.w1(x)\n",
    "        swish_z = z * torch.sigmoid(z)\n",
    "        g = self.w3(x)\n",
    "        gated_output = swish_z * g\n",
    "        out = self.w2(gated_output)\n",
    "        return out\n",
    "class MultiHeadAttention(nn.Module):\n",
    "    def __init__(self, num_heads, head_size):\n",
    "        super().__init__()\n",
    "        self.heads = nn.ModuleList([Head(head_size) for _ in range(num_heads)])\n",
    "        self.proj = nn.Linear(n_embd, n_embd)\n",
    "        self.dropout = nn.Dropout(dropout)\n",
    "\n",
    "    def forward(self, x):\n",
    "        out = torch.cat([h(x) for h in self.heads], dim=-1)\n",
    "        out = self.proj(out)\n",
    "        out = self.dropout(out)\n",
    "        return out\n",
    "\n",
    "class Block(nn.Module):\n",
    "    def __init__(self, n_embd, n_heads):\n",
    "        super().__init__()\n",
    "        self.sa = MultiHeadAttention(num_heads=n_heads, head_size=(n_embd // n_heads))\n",
    "        self.ffwd = FeedForward(n_embd=n_embd)\n",
    "        self.ln1 = nn.RMSNorm(n_embd, eps=1e-8)\n",
    "        self.ln2 = nn.RMSNorm(n_embd, eps=1e-8)\n",
    "\n",
    "    def forward(self, x):\n",
    "        x = x + self.sa(self.ln1(x))\n",
    "        x = x + self.ffwd(self.ln2(x))\n",
    "        return x\n",
    "\n",
    "class LanguageModel(nn.Module):\n",
    "    def __init__(self):\n",
    "        super().__init__()\n",
    "        self.token_emebdding_table = nn.Embedding(vocab_size, n_embd)\n",
    "        self.blocks = nn.Sequential(*[Block(n_embd=n_embd, n_heads=n_head) for _ in range(n_layer)])\n",
    "        self.ln_f = nn.RMSNorm(n_embd, eps=1e-8)\n",
    "        self.lm_head = nn.Linear(n_embd, vocab_size)\n",
    "\n",
    "    def forward(self, idx, targets=None):\n",
    "        B,T = idx.shape\n",
    "        tok_embd = self.token_emebdding_table(idx)\n",
    "        x = tok_embd\n",
    "        x = self.blocks(x)\n",
    "        x = self.ln_f(x)\n",
    "        logits = self.lm_head(x)\n",
    "\n",
    "        if targets == None:\n",
    "            loss = None\n",
    "        else:\n",
    "            B,T,C = logits.shape\n",
    "            logits = logits.view(B*T, C)\n",
    "            targets = targets.view(B*T)\n",
    "            loss = F.cross_entropy(logits, targets)\n",
    "\n",
    "        return logits, loss\n",
    "\n",
    "    def generate(self, idx, max_new_tokens):\n",
    "        for _ in range(max_new_tokens):\n",
    "            idx_cond = idx[:, -block_size:]\n",
    "            logits, loss = self(idx_cond)\n",
    "            logits = logits[:, -1, :]\n",
    "            probs = F.softmax(logits, dim=-1)\n",
    "            idx_next = torch.multinomial(probs, num_samples=1)\n",
    "            idx =  torch.cat((idx, idx_next), dim=1)\n",
    "        return idx"
   ]
  },
  {
   "cell_type": "markdown",
   "id": "07446021",
   "metadata": {},
   "source": [
    "**Note: I am using a default vocabulary size such that the number of merges is limited to 128. This adjustment is because a vocabulary size of `5000` was taking too long to process on my laptop, as I am running the code locally without a GPU.** \n",
    "<br><br>"
   ]
  },
  {
   "cell_type": "code",
   "execution_count": null,
   "id": "a513355d",
   "metadata": {},
   "outputs": [],
   "source": [
    "bpe = BPE(vocab_size=256+128)\n",
    "bpe.fit(text)\n",
    "data = torch.tensor(bpe.encode(text), dtype=torch.long)"
   ]
  },
  {
   "cell_type": "code",
   "execution_count": 24,
   "id": "914715d5",
   "metadata": {
    "id": "914715d5"
   },
   "outputs": [],
   "source": [
    "model = LanguageModel()\n",
    "m = model.to(device=device)"
   ]
  },
  {
   "cell_type": "code",
   "execution_count": 25,
   "id": "NguALz508ohf",
   "metadata": {
    "id": "NguALz508ohf"
   },
   "outputs": [],
   "source": [
    "@torch.no_grad()\n",
    "def estimate_loss():\n",
    "    out = {}\n",
    "    model.eval()\n",
    "    for split in ['train', 'val']:\n",
    "        losses = torch.zeros(eval_iters)\n",
    "        for k in range(eval_iters):\n",
    "            X, Y = get_batch(split)\n",
    "            logits, loss = model(X, Y)\n",
    "            losses[k] = loss.item()\n",
    "        out[split] = losses.mean()\n",
    "    model.train()\n",
    "    return out\n",
    "\n",
    "optimizer = torch.optim.AdamW(model.parameters(), lr=learning_rate)\n",
    "\n",
    "tr_losses = []\n",
    "val_losses = []\n",
    "def train():\n",
    "    for iter in range(max_iter):\n",
    "        if iter % eval_interval == 0 or iter == max_iter - 1:\n",
    "            losses = estimate_loss()\n",
    "            tr_losses.append(losses['train'])\n",
    "            val_losses.append(losses['val'])\n",
    "            print(f\"step {iter}: train loss {losses['train']:.4f}, val loss {losses['val']:.4f}\")\n",
    "\n",
    "        xb, yb = get_batch('train')\n",
    "\n",
    "        logits, loss = model(xb, yb)\n",
    "        optimizer.zero_grad(set_to_none=True)\n",
    "        loss.backward()\n",
    "        optimizer.step()"
   ]
  },
  {
   "cell_type": "code",
   "execution_count": 26,
   "id": "W6Xa3RjD8uQU",
   "metadata": {
    "colab": {
     "base_uri": "https://localhost:8080/"
    },
    "id": "W6Xa3RjD8uQU",
    "outputId": "d2f4d4c1-3190-4bee-c418-20ecb1daf8c2"
   },
   "outputs": [
    {
     "name": "stdout",
     "output_type": "stream",
     "text": [
      "step 0: train loss 4.3799, val loss 4.3810\n",
      "step 100: train loss 2.7204, val loss 2.7418\n",
      "step 200: train loss 2.5211, val loss 2.5316\n",
      "step 300: train loss 2.4405, val loss 2.4376\n",
      "step 400: train loss 2.3786, val loss 2.3824\n",
      "step 500: train loss 2.3397, val loss 2.3320\n",
      "step 600: train loss 2.2823, val loss 2.2844\n",
      "step 700: train loss 2.2445, val loss 2.2433\n",
      "step 800: train loss 2.2029, val loss 2.2317\n",
      "step 900: train loss 2.1776, val loss 2.2056\n",
      "step 1000: train loss 2.1483, val loss 2.1750\n",
      "step 1100: train loss 2.1254, val loss 2.1669\n",
      "step 1200: train loss 2.1000, val loss 2.1419\n",
      "step 1300: train loss 2.0735, val loss 2.1076\n",
      "step 1400: train loss 2.0602, val loss 2.1082\n",
      "step 1500: train loss 2.0466, val loss 2.0807\n",
      "step 1600: train loss 2.0180, val loss 2.0641\n",
      "step 1700: train loss 2.0006, val loss 2.0596\n",
      "step 1800: train loss 1.9740, val loss 2.0440\n",
      "step 1900: train loss 1.9746, val loss 2.0394\n",
      "step 2000: train loss 1.9571, val loss 2.0234\n",
      "step 2100: train loss 1.9525, val loss 2.0264\n",
      "step 2200: train loss 1.9362, val loss 2.0258\n",
      "step 2300: train loss 1.9227, val loss 2.0114\n",
      "step 2399: train loss 1.9066, val loss 2.0104\n"
     ]
    }
   ],
   "source": [
    "train()"
   ]
  },
  {
   "cell_type": "code",
   "execution_count": 28,
   "id": "51fcf0bd",
   "metadata": {},
   "outputs": [
    {
     "data": {
      "image/png": "[encoded data removed]",
      "text/plain": [
       "<Figure size 1000x600 with 1 Axes>"
      ]
     },
     "metadata": {},
     "output_type": "display_data"
    }
   ],
   "source": [
    "plot_losses()"
   ]
  }
 ],
 "metadata": {
  "colab": {
   "provenance": []
  },
  "kernelspec": {
   "display_name": "Python 3 (ipykernel)",
   "language": "python",
   "name": "python3"
  },
  "language_info": {
   "codemirror_mode": {
    "name": "ipython",
    "version": 3
   },
   "file_extension": ".py",
   "mimetype": "text/x-python",
   "name": "python",
   "nbconvert_exporter": "python",
   "pygments_lexer": "ipython3",
   "version": "3.9.20"
  }
 },
 "nbformat": 4,
 "nbformat_minor": 5
}
